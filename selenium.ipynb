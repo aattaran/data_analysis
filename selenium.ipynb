{
 "cells": [
  {
   "cell_type": "code",
   "execution_count": 4,
   "metadata": {},
   "outputs": [],
   "source": [
    "from selenium import webdriver"
   ]
  },
  {
   "cell_type": "code",
   "execution_count": 6,
   "metadata": {},
   "outputs": [],
   "source": [
    "browser=webdriver.Chrome('chromedriver_win32/chromedriver.exe')"
   ]
  },
  {
   "cell_type": "code",
   "execution_count": 10,
   "metadata": {},
   "outputs": [],
   "source": [
    "browser.get('https://google.com')"
   ]
  },
  {
   "cell_type": "code",
   "execution_count": 14,
   "metadata": {},
   "outputs": [],
   "source": [
    "browser.execute_script(\"alert ('hi')\")"
   ]
  },
  {
   "cell_type": "code",
   "execution_count": 18,
   "metadata": {},
   "outputs": [],
   "source": [
    "input_=browser.find_element_by_css_selector('#lst-ib')"
   ]
  },
  {
   "cell_type": "code",
   "execution_count": 29,
   "metadata": {},
   "outputs": [],
   "source": [
    "input_.clear()"
   ]
  },
  {
   "cell_type": "code",
   "execution_count": 30,
   "metadata": {},
   "outputs": [],
   "source": [
    "input_.send_keys('exmaple test')"
   ]
  },
  {
   "cell_type": "code",
   "execution_count": 35,
   "metadata": {},
   "outputs": [],
   "source": [
    "input_.click()"
   ]
  },
  {
   "cell_type": "code",
   "execution_count": 38,
   "metadata": {},
   "outputs": [],
   "source": [
    "browser.get('https://reddit.com')"
   ]
  },
  {
   "cell_type": "code",
   "execution_count": 54,
   "metadata": {},
   "outputs": [],
   "source": [
    "titles = browser.find_elements_by_css_selector('a.title')"
   ]
  },
  {
   "cell_type": "code",
   "execution_count": null,
   "metadata": {},
   "outputs": [],
   "source": [
    "[t.text for t in titles]"
   ]
  },
  {
   "cell_type": "code",
   "execution_count": 57,
   "metadata": {},
   "outputs": [],
   "source": [
    "next_=browser.find_element_by_css_selector('.next-button a')"
   ]
  },
  {
   "cell_type": "code",
   "execution_count": 58,
   "metadata": {},
   "outputs": [],
   "source": [
    "next_.click()"
   ]
  },
  {
   "cell_type": "code",
   "execution_count": 77,
   "metadata": {},
   "outputs": [],
   "source": [
    "\n",
    "def pages_titles():\n",
    "    all_titles=[]\n",
    "    browser=webdriver.Chrome('chromedriver_win32/chromedriver.exe')\n",
    "    browser.get('https://reddit.com')\n",
    "    for i in range(3):\n",
    "                \n",
    "        titles = browser.find_elements_by_css_selector('a.title')\n",
    "        tiless = [t.text for t in titles]\n",
    "        all_titles.append(tiless)\n",
    "        next_=browser.find_element_by_css_selector('.next-button a')\n",
    "        next_.click()\n",
    "        \n",
    "    return all_titles\n",
    "    "
   ]
  },
  {
   "cell_type": "code",
   "execution_count": 78,
   "metadata": {},
   "outputs": [
    {
     "data": {
      "text/plain": [
       "[['“Quiz conquered? Jobs offered.” — Triplebyte to software engineers',\n",
       "  'Emergency alert about ballistic missile sent to Hawaii residents; EMA says ‘no threat’',\n",
       "  'Eliza Dushku says she was molested during the production of \"True Lies\" by the stunt coordinator, a guy who still works in Hollywood and most recently did the stunts for \"Blade Runner 2049\" and \"Furious 7\"',\n",
       "  'At Pax South, there were amazing Fallout Mario and Luigi cosplayers with a bullet bill Fat Man launcher',\n",
       "  'Roomba: the early years',\n",
       "  'this is a load of barnacles...',\n",
       "  'New York, 1984',\n",
       "  'Clever stop motion animation movie',\n",
       "  'Norway versus the USA',\n",
       "  'The best part of the Superbowl',\n",
       "  'When your new puppy is TOO excited to see you',\n",
       "  'Ten years ago, this video of Tom Cruise was leaked to the internet. It was a disaster for both Cruise and the Church of Scientology.',\n",
       "  'Turns out it was a drill, and this message was an error',\n",
       "  'Attempted troll backfires',\n",
       "  'Last Remaining Northern White Rhino Male Being Guarded, Sudan',\n",
       "  'If this gets 10,000 up votes I will give every up voter 1 garlicoin',\n",
       "  'Wood Scales',\n",
       "  '\"Haha fooled you, I\\'m the real kitty!\"',\n",
       "  \"Help me Ewan Mcgregor, you're my only hope\",\n",
       "  'Fighter helps opponent relocate shoulder',\n",
       "  'Thts wot I fought.',\n",
       "  'The reward for winning solitaire in Windows XP!',\n",
       "  \"The Design of this Dolphin is the 🔥est I've ever seen!\",\n",
       "  'I wish more people did this',\n",
       "  'This is my cat Lorbus eating a metal chair.',\n",
       "  '“I’m nauseatingly pro-American. I would have come here from any country. The U.S. is where great things are possible.” - Elon Musk'],\n",
       " ['“Quiz conquered? Jobs offered.” — Triplebyte to software engineers',\n",
       "  'Best way to announce a pregnancy',\n",
       "  'How to make your tables less terrible',\n",
       "  '[Skyrim] A new way to travel (x-post /r/Skyrim)',\n",
       "  'George is getting upset! (X-Post from /r/seinfeldgifs)',\n",
       "  'The Ames Room.',\n",
       "  'Doggy Massacre',\n",
       "  \"TIL clocks run from left to right because in the Northern hemisphere that's how sundials cast shadows (bonus: in an attempt to recover their cultural identity, Bolivians installed an anti-clockwise clock in their Congress building)\",\n",
       "  'CupHead animation.',\n",
       "  'New York Times editors have fallen in love with this little creature',\n",
       "  'PsBattle: This Shiba Inu dog with a leaf mane',\n",
       "  'How an Alt-Righter thinks',\n",
       "  \"How strong is 'Swanson Moonshine'?\",\n",
       "  'The fuck?',\n",
       "  'No shave no problem',\n",
       "  'My son and I have spent the last two years documenting how he explores his everyday world.',\n",
       "  'HMC while I start this race',\n",
       "  'Airplane',\n",
       "  'This is a parked car..',\n",
       "  'Her Bio said \"She would pay hourly for back tickles\"',\n",
       "  'Right back at you bitch',\n",
       "  'I’m not sure if this belongs here..',\n",
       "  'Notifications',\n",
       "  'How the Panama canal works.',\n",
       "  'Water falls in the shape of musical notes',\n",
       "  'The rewards of hypnotherapy!'],\n",
       " ['“Quiz conquered? Jobs offered.” — Triplebyte to software engineers',\n",
       "  'The Eyrie from Game of Thrones [985x1477, OC] Iceland, Þingvellir',\n",
       "  'Tested out the new emergency alert system boss',\n",
       "  'No more room for improvment',\n",
       "  '\"Hello other pupper fren!\"',\n",
       "  'Watching the puppet show, Paris 1963. Colourised. (1138 x 760)',\n",
       "  \"TIL one person in four is a 'supertaster', who experience the sensation of tasting more intensely. Supertasters have a high density of taste cells on their tongue, but are likely to have a distaste for beer.\",\n",
       "  'Who The Hell are you???',\n",
       "  '1=0',\n",
       "  'Just turned 20 and my amazing friends threw me a surprise birthday party. I’ve never felt so loved and included before :)',\n",
       "  'Kitchen Upgrades',\n",
       "  'I want to leave my abusive husband but I don’t know how to do it because I have nothing to my name and babies to take care of',\n",
       "  'The smell of breakfast.',\n",
       "  'Leah Remini Returning to A&E to Investigate Other ‘Cult-Like Religions’',\n",
       "  'Each booth is an alternate reality',\n",
       "  \"In Rogue One, Vader's Castle and the Temple of the Kyber (on Jedha) were designed to mirror each other, and designed after a tuning fork, as both were meant to be places where the Dark and Light side of the Force were focused.\",\n",
       "  'Notifications',\n",
       "  \"ULPT: When giving someone a ride, occasionally drink from a hip flask. When they ask you what's in it, say it's water. Next time they won't be to eager to ask you to drive them.\",\n",
       "  'South African protestors destroy H&M store over a sweater that was never sold in the country',\n",
       "  'You see comrade, this is iron comrade',\n",
       "  'Scientists are making carbon fiber from plants instead of petroleum',\n",
       "  \"It's a hard life.\",\n",
       "  '[OC] Real-life mileage comparison between hybrid and petrol car',\n",
       "  'The pink fairy armadillo or pichiciego is the smallest species of armadillo, first described by R. Harlan in 1825. This desert-adapted animal is endemic to central Argentina and can be found inhabiting sandy plains, dunes, and scrubby grasslands',\n",
       "  'The secret identity of Batman',\n",
       "  'The day we brought home our second rescued pup 🐶❤️🐶']]"
      ]
     },
     "execution_count": 78,
     "metadata": {},
     "output_type": "execute_result"
    }
   ],
   "source": [
    "pages_titles()"
   ]
  },
  {
   "cell_type": "code",
   "execution_count": null,
   "metadata": {},
   "outputs": [],
   "source": []
  },
  {
   "cell_type": "code",
   "execution_count": null,
   "metadata": {},
   "outputs": [],
   "source": []
  }
 ],
 "metadata": {
  "kernelspec": {
   "display_name": "Python [conda root]",
   "language": "python",
   "name": "conda-root-py"
  },
  "language_info": {
   "codemirror_mode": {
    "name": "ipython",
    "version": 3
   },
   "file_extension": ".py",
   "mimetype": "text/x-python",
   "name": "python",
   "nbconvert_exporter": "python",
   "pygments_lexer": "ipython3",
   "version": "3.6.3"
  }
 },
 "nbformat": 4,
 "nbformat_minor": 2
}
